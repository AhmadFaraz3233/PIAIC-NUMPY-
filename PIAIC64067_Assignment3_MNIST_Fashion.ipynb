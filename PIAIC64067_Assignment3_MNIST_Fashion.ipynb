{
  "nbformat": 4,
  "nbformat_minor": 0,
  "metadata": {
    "colab": {
      "name": "PIAIC64067-Assignment3_MNIST_Fashion.ipynb",
      "provenance": [],
      "collapsed_sections": []
    },
    "kernelspec": {
      "name": "python3",
      "display_name": "Python 3"
    },
    "language_info": {
      "name": "python"
    }
  },
  "cells": [
    {
      "cell_type": "markdown",
      "metadata": {
        "id": "APeoCTziFMGG"
      },
      "source": [
        "# **Importing MNIST-Fashion Dataset**"
      ]
    },
    {
      "cell_type": "code",
      "metadata": {
        "id": "1jL0FmDYB6di"
      },
      "source": [
        "from tensorflow.keras.datasets import fashion_mnist"
      ],
      "execution_count": 1,
      "outputs": []
    },
    {
      "cell_type": "code",
      "metadata": {
        "colab": {
          "base_uri": "https://localhost:8080/"
        },
        "id": "Fcmj7cdjCA_B",
        "outputId": "48cd9f42-b480-4242-a7b0-0e33c1ef2b7c"
      },
      "source": [
        "#spliting traing and testing images data\n",
        "(train_images,train_labels) , (test_images, test_lables) = fashion_mnist.load_data()"
      ],
      "execution_count": 2,
      "outputs": [
        {
          "output_type": "stream",
          "text": [
            "Downloading data from https://storage.googleapis.com/tensorflow/tf-keras-datasets/train-labels-idx1-ubyte.gz\n",
            "32768/29515 [=================================] - 0s 0us/step\n",
            "Downloading data from https://storage.googleapis.com/tensorflow/tf-keras-datasets/train-images-idx3-ubyte.gz\n",
            "26427392/26421880 [==============================] - 0s 0us/step\n",
            "Downloading data from https://storage.googleapis.com/tensorflow/tf-keras-datasets/t10k-labels-idx1-ubyte.gz\n",
            "8192/5148 [===============================================] - 0s 0us/step\n",
            "Downloading data from https://storage.googleapis.com/tensorflow/tf-keras-datasets/t10k-images-idx3-ubyte.gz\n",
            "4423680/4422102 [==============================] - 0s 0us/step\n"
          ],
          "name": "stdout"
        }
      ]
    },
    {
      "cell_type": "code",
      "metadata": {
        "colab": {
          "base_uri": "https://localhost:8080/"
        },
        "id": "oMU9eZ4mCFvo",
        "outputId": "f4545343-46cc-4db0-d419-2868c2d515c7"
      },
      "source": [
        "#cheching length of training and testing data\n",
        "print(len(train_images))\n",
        "print(len(train_labels))\n"
      ],
      "execution_count": 3,
      "outputs": [
        {
          "output_type": "stream",
          "text": [
            "60000\n",
            "60000\n"
          ],
          "name": "stdout"
        }
      ]
    },
    {
      "cell_type": "code",
      "metadata": {
        "colab": {
          "base_uri": "https://localhost:8080/"
        },
        "id": "CJgS3Se8CJ6J",
        "outputId": "0cafb017-1438-43f1-a913-db981ef58cbe"
      },
      "source": [
        "print(len(test_images))\n",
        "print(len(test_lables))"
      ],
      "execution_count": 4,
      "outputs": [
        {
          "output_type": "stream",
          "text": [
            "10000\n",
            "10000\n"
          ],
          "name": "stdout"
        }
      ]
    },
    {
      "cell_type": "code",
      "metadata": {
        "colab": {
          "base_uri": "https://localhost:8080/"
        },
        "id": "xKegFK10CRlo",
        "outputId": "f97a20e6-398b-4fdf-edba-9b6780d90111"
      },
      "source": [
        "#checking the shpes of our data\n",
        "print(train_images.shape)\n",
        "print(train_labels.shape)\n",
        "print(test_images.shape)\n",
        "print(test_lables.shape)"
      ],
      "execution_count": 5,
      "outputs": [
        {
          "output_type": "stream",
          "text": [
            "(60000, 28, 28)\n",
            "(60000,)\n",
            "(10000, 28, 28)\n",
            "(10000,)\n"
          ],
          "name": "stdout"
        }
      ]
    },
    {
      "cell_type": "code",
      "metadata": {
        "id": "HkhA8tHICVGq"
      },
      "source": [
        "class_names = ['T-shirt/top', 'Trouser', 'Pullover', 'Dress', 'Coat',\n",
        "               'Sandal', 'Shirt', 'Sneaker', 'Bag', 'Ankle boot']"
      ],
      "execution_count": 6,
      "outputs": []
    },
    {
      "cell_type": "code",
      "metadata": {
        "colab": {
          "base_uri": "https://localhost:8080/",
          "height": 282
        },
        "id": "4NiG4PbsCYxO",
        "outputId": "921e66ae-dbef-4149-eddf-2a9e312ed2d0"
      },
      "source": [
        "import matplotlib.pyplot as plt\n",
        "print(\"class name\" , class_names[train_labels[15]])\n",
        "plt.imshow(train_images[15] , cmap=plt.cm.binary)\n",
        "plt.show()"
      ],
      "execution_count": 7,
      "outputs": [
        {
          "output_type": "stream",
          "text": [
            "class name Ankle boot\n"
          ],
          "name": "stdout"
        },
        {
          "output_type": "display_data",
          "data": {
            "image/png": "[encoded data removed]",
            "text/plain": [
              "<Figure size 432x288 with 1 Axes>"
            ]
          },
          "metadata": {
            "tags": [],
            "needs_background": "light"
          }
        }
      ]
    },
    {
      "cell_type": "code",
      "metadata": {
        "colab": {
          "base_uri": "https://localhost:8080/"
        },
        "id": "9mGyqKJyCdbV",
        "outputId": "73aba79d-f898-4d8e-c111-74a48e17828d"
      },
      "source": [
        "#checking unique labels\n",
        "import numpy as np\n",
        "print(np.unique(train_labels))\n",
        "print(np.unique(test_lables))"
      ],
      "execution_count": 8,
      "outputs": [
        {
          "output_type": "stream",
          "text": [
            "[0 1 2 3 4 5 6 7 8 9]\n",
            "[0 1 2 3 4 5 6 7 8 9]\n"
          ],
          "name": "stdout"
        }
      ]
    },
    {
      "cell_type": "code",
      "metadata": {
        "colab": {
          "base_uri": "https://localhost:8080/"
        },
        "id": "XY18eMGGCipG",
        "outputId": "5d3ff049-a45f-4b95-f077-97e972602418"
      },
      "source": [
        "print(train_images.shape)\n",
        "train_images=train_images.reshape((60000, 28*28))\n",
        "print(train_images.shape)\n",
        "train_images=train_images.astype(\"float32\")/255\n",
        "print(train_images.shape)\n",
        "\n",
        "test_images=test_images.reshape((10000, 28*28))\n",
        "test_images=test_images.astype(\"float32\")/255"
      ],
      "execution_count": 9,
      "outputs": [
        {
          "output_type": "stream",
          "text": [
            "(60000, 28, 28)\n",
            "(60000, 784)\n",
            "(60000, 784)\n"
          ],
          "name": "stdout"
        }
      ]
    },
    {
      "cell_type": "code",
      "metadata": {
        "colab": {
          "base_uri": "https://localhost:8080/"
        },
        "id": "VpqH5_yJCpUa",
        "outputId": "86e4ed65-e7ca-4a1d-d8bd-a5404a5e5fa4"
      },
      "source": [
        "train_labels[2]"
      ],
      "execution_count": 10,
      "outputs": [
        {
          "output_type": "execute_result",
          "data": {
            "text/plain": [
              "0"
            ]
          },
          "metadata": {
            "tags": []
          },
          "execution_count": 10
        }
      ]
    },
    {
      "cell_type": "code",
      "metadata": {
        "id": "7_Q-DWQfCt2-"
      },
      "source": [
        "from tensorflow.keras.utils import to_categorical\n",
        "train_labels = to_categorical(train_labels)\n",
        "test_lables = to_categorical(test_lables)"
      ],
      "execution_count": 11,
      "outputs": []
    },
    {
      "cell_type": "code",
      "metadata": {
        "id": "Aq1jG1VGCzJW"
      },
      "source": [
        "from tensorflow.keras.models import Sequential\n",
        "from tensorflow.keras.layers import Dense , Flatten , Dropout\n",
        "from tensorflow.keras.activations import relu ,softmax\n",
        "from tensorflow.keras.optimizers import RMSprop \n",
        "from tensorflow.keras.losses import categorical_crossentropy"
      ],
      "execution_count": 12,
      "outputs": []
    },
    {
      "cell_type": "code",
      "metadata": {
        "id": "3I9nF1-gC3W1"
      },
      "source": [
        "network = Sequential()\n",
        "network.add(Dense(512 , activation=relu , input_shape=(28*28,)))\n",
        "network.add(Dropout(0.2))\n",
        "network.add(Dense(10 , activation=softmax))"
      ],
      "execution_count": 13,
      "outputs": []
    },
    {
      "cell_type": "code",
      "metadata": {
        "colab": {
          "base_uri": "https://localhost:8080/"
        },
        "id": "npo61NZCC7Wv",
        "outputId": "dc094616-be32-410c-e290-6635a31980a9"
      },
      "source": [
        "network.summary()"
      ],
      "execution_count": 14,
      "outputs": [
        {
          "output_type": "stream",
          "text": [
            "Model: \"sequential\"\n",
            "_________________________________________________________________\n",
            "Layer (type)                 Output Shape              Param #   \n",
            "=================================================================\n",
            "dense (Dense)                (None, 512)               401920    \n",
            "_________________________________________________________________\n",
            "dropout (Dropout)            (None, 512)               0         \n",
            "_________________________________________________________________\n",
            "dense_1 (Dense)              (None, 10)                5130      \n",
            "=================================================================\n",
            "Total params: 407,050\n",
            "Trainable params: 407,050\n",
            "Non-trainable params: 0\n",
            "_________________________________________________________________\n"
          ],
          "name": "stdout"
        }
      ]
    },
    {
      "cell_type": "code",
      "metadata": {
        "id": "TwJW8rMxC_pm"
      },
      "source": [
        "#compile the Model\n",
        "network.compile(optimizer='rmsprop' , loss='categorical_crossentropy' , metrics=['acc'])"
      ],
      "execution_count": 15,
      "outputs": []
    },
    {
      "cell_type": "code",
      "metadata": {
        "colab": {
          "base_uri": "https://localhost:8080/"
        },
        "id": "PQLKuXYmDGpO",
        "outputId": "6d0d2ef3-4d79-4809-8a17-b9693d777e22"
      },
      "source": [
        "#Train model\n",
        "train_images.shape"
      ],
      "execution_count": 16,
      "outputs": [
        {
          "output_type": "execute_result",
          "data": {
            "text/plain": [
              "(60000, 784)"
            ]
          },
          "metadata": {
            "tags": []
          },
          "execution_count": 16
        }
      ]
    },
    {
      "cell_type": "code",
      "metadata": {
        "colab": {
          "base_uri": "https://localhost:8080/"
        },
        "id": "RH9hCSFoDKkE",
        "outputId": "9e79d806-7cf0-4de1-f789-4f3a28f70a74"
      },
      "source": [
        "history=network.fit(train_images, train_labels, epochs=5, batch_size=128)"
      ],
      "execution_count": 17,
      "outputs": [
        {
          "output_type": "stream",
          "text": [
            "Epoch 1/5\n",
            "469/469 [==============================] - 5s 10ms/step - loss: 0.7558 - acc: 0.7370\n",
            "Epoch 2/5\n",
            "469/469 [==============================] - 5s 10ms/step - loss: 0.4011 - acc: 0.8513\n",
            "Epoch 3/5\n",
            "469/469 [==============================] - 5s 10ms/step - loss: 0.3545 - acc: 0.8721\n",
            "Epoch 4/5\n",
            "469/469 [==============================] - 5s 10ms/step - loss: 0.3315 - acc: 0.8792\n",
            "Epoch 5/5\n",
            "469/469 [==============================] - 5s 10ms/step - loss: 0.3158 - acc: 0.8845\n"
          ],
          "name": "stdout"
        }
      ]
    },
    {
      "cell_type": "code",
      "metadata": {
        "colab": {
          "base_uri": "https://localhost:8080/"
        },
        "id": "VM-U4K3ZDVP8",
        "outputId": "bb1e0184-9288-4580-bdd7-1bd0cdab7750"
      },
      "source": [
        "print(history.history.keys())"
      ],
      "execution_count": 18,
      "outputs": [
        {
          "output_type": "stream",
          "text": [
            "dict_keys(['loss', 'acc'])\n"
          ],
          "name": "stdout"
        }
      ]
    },
    {
      "cell_type": "markdown",
      "metadata": {
        "id": "BIGiS4s5ElOF"
      },
      "source": [
        "# **Graph of Lose vs Accuracy**"
      ]
    },
    {
      "cell_type": "code",
      "metadata": {
        "colab": {
          "base_uri": "https://localhost:8080/",
          "height": 295
        },
        "id": "JwcBV8oqDbm3",
        "outputId": "7785c18a-e365-44f0-c67f-1cdadf16dbd9"
      },
      "source": [
        "plt.plot(history.history['acc'])\n",
        "plt.plot(history.history['loss'])\n",
        "plt.title('model accuracy and loss')\n",
        "plt.ylabel('accuracy')\n",
        "plt.xlabel('epoch')\n",
        "plt.legend(['train acc','trian loss'], loc='upper left')\n",
        "plt.show()"
      ],
      "execution_count": 19,
      "outputs": [
        {
          "output_type": "display_data",
          "data": {
            "image/png": "[encoded data removed]",
            "text/plain": [
              "<Figure size 432x288 with 1 Axes>"
            ]
          },
          "metadata": {
            "tags": [],
            "needs_background": "light"
          }
        }
      ]
    },
    {
      "cell_type": "markdown",
      "metadata": {
        "id": "QVkKNuPED6bV"
      },
      "source": [
        "# **Model Evaluation**"
      ]
    },
    {
      "cell_type": "code",
      "metadata": {
        "colab": {
          "base_uri": "https://localhost:8080/"
        },
        "id": "F2RJTNKbDkDk",
        "outputId": "2584af22-7a3f-4eb2-b27f-f17d519fb394"
      },
      "source": [
        "\n",
        "test_loss, test_acc = network.evaluate(test_images , test_lables)"
      ],
      "execution_count": 20,
      "outputs": [
        {
          "output_type": "stream",
          "text": [
            "313/313 [==============================] - 1s 2ms/step - loss: 0.3572 - acc: 0.8739\n"
          ],
          "name": "stdout"
        }
      ]
    },
    {
      "cell_type": "markdown",
      "metadata": {
        "id": "ERSIYgDDEI-h"
      },
      "source": [
        "# **Losses**"
      ]
    },
    {
      "cell_type": "code",
      "metadata": {
        "colab": {
          "base_uri": "https://localhost:8080/"
        },
        "id": "JvTuoUG2Dto2",
        "outputId": "ec3d7eb0-9943-4247-f649-77fbbebc8e32"
      },
      "source": [
        "print(\"losss\" , test_loss)"
      ],
      "execution_count": 21,
      "outputs": [
        {
          "output_type": "stream",
          "text": [
            "losss 0.35720252990722656\n"
          ],
          "name": "stdout"
        }
      ]
    },
    {
      "cell_type": "markdown",
      "metadata": {
        "id": "ARq5KpOrEPl5"
      },
      "source": [
        "# **Accuracy**"
      ]
    },
    {
      "cell_type": "code",
      "metadata": {
        "colab": {
          "base_uri": "https://localhost:8080/"
        },
        "id": "wLRvPPIFD0Y-",
        "outputId": "8b51bed0-518c-42bd-87ae-5a20db5640c7"
      },
      "source": [
        "print(\"model acc\" , test_acc)"
      ],
      "execution_count": 22,
      "outputs": [
        {
          "output_type": "stream",
          "text": [
            "model acc 0.8738999962806702\n"
          ],
          "name": "stdout"
        }
      ]
    },
    {
      "cell_type": "code",
      "metadata": {
        "id": "0Q2JhqPpCjzP"
      },
      "source": [
        ""
      ],
      "execution_count": null,
      "outputs": []
    }
  ]
}